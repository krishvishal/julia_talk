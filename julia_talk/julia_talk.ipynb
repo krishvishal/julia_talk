{
 "cells": [
  {
   "cell_type": "markdown",
   "metadata": {},
   "source": [
    "# Recipes for writing high performance Julia code\n"
   ]
  },
  {
   "cell_type": "code",
   "execution_count": 1,
   "metadata": {},
   "outputs": [
    {
     "name": "stderr",
     "output_type": "stream",
     "text": [
      "\u001b[32m\u001b[1m Activating\u001b[22m\u001b[39m environment at `~/julia_talk/Project.toml`\n"
     ]
    }
   ],
   "source": [
    "import Pkg\n",
    "\n",
    "Pkg.activate(\"Project.toml\")"
   ]
  },
  {
   "cell_type": "markdown",
   "metadata": {},
   "source": [
    "# How fast is Julia?\n",
    "\n",
    "Lets see a comparision with\n",
    "\n",
    "1. Simple C \n",
    "2. Handwritten Julia \n",
    "3. Julia builtin\n",
    "4. Python builtin \n",
    "5. Handwritten Python "
   ]
  },
  {
   "cell_type": "code",
   "execution_count": 2,
   "metadata": {},
   "outputs": [],
   "source": [
    "data = rand(10_000_000);"
   ]
  },
  {
   "cell_type": "code",
   "execution_count": 3,
   "metadata": {},
   "outputs": [],
   "source": [
    "C_code =  \"\"\"\n",
    "#include <stddef.h>\n",
    "double c_sum(size_t n, double *X) {\n",
    "    double s = 0.0;\n",
    "    for (size_t i = 0; i < n; ++i) {\n",
    "        s += X[i];\n",
    "    }\n",
    "    return s;\n",
    "}\n",
    "\"\"\";\n"
   ]
  },
  {
   "cell_type": "code",
   "execution_count": 4,
   "metadata": {},
   "outputs": [],
   "source": [
    "using Libdl\n",
    "const Clib = tempname()   # make a temporary file\n",
    "\n",
    "# compile to a shared library by piping C_code to gcc\n",
    "# (works only if you have gcc installed):\n",
    "\n",
    "open(`gcc -fPIC -O3 -msse3 -xc -shared -o $(Clib * \".\" * Libdl.dlext) -`, \"w\") do f\n",
    "    print(f, C_code) \n",
    "end\n"
   ]
  },
  {
   "cell_type": "code",
   "execution_count": 5,
   "metadata": {},
   "outputs": [
    {
     "data": {
      "text/plain": [
       "c_sum (generic function with 1 method)"
      ]
     },
     "execution_count": 5,
     "metadata": {},
     "output_type": "execute_result"
    }
   ],
   "source": [
    "function c_sum(X::Array{Float64})\n",
    "    ccall((\"c_sum\", Clib), \n",
    "          Float64,\n",
    "          (Csize_t, Ref{Float64}),\n",
    "          length(X), X)\n",
    "end\n"
   ]
  },
  {
   "cell_type": "code",
   "execution_count": 6,
   "metadata": {},
   "outputs": [],
   "source": [
    "using PyCall\n",
    "\n",
    "apy_list = PyCall.array2py(data)\n",
    "apy_numpy = PyObject(data)\n",
    "\n",
    "# get the Python built-in \"sum\" function:\n",
    "pysum = pybuiltin(\"sum\");\n",
    "# get the Numpy \"sum\" function:\n",
    "numpy_sum = pyimport(\"numpy\").sum;\n"
   ]
  },
  {
   "cell_type": "code",
   "execution_count": 7,
   "metadata": {},
   "outputs": [],
   "source": [
    "py\"\"\"\n",
    "def py_sum(a):\n",
    "    s = 0.0\n",
    "    for x in a:\n",
    "        s = s + x\n",
    "    return s\n",
    "\"\"\"\n",
    "\n",
    "sum_py = py\"py_sum\";\n"
   ]
  },
  {
   "cell_type": "code",
   "execution_count": 8,
   "metadata": {},
   "outputs": [
    {
     "data": {
      "text/plain": [
       "mysum (generic function with 1 method)"
      ]
     },
     "execution_count": 8,
     "metadata": {},
     "output_type": "execute_result"
    }
   ],
   "source": [
    "function mysum(data)\n",
    "    acc = zero(eltype(data))\n",
    "    for x in data\n",
    "        acc += x\n",
    "    end\n",
    "    return acc\n",
    "end"
   ]
  },
  {
   "cell_type": "code",
   "execution_count": 51,
   "metadata": {},
   "outputs": [
    {
     "data": {
      "text/plain": [
       "0"
      ]
     },
     "execution_count": 51,
     "metadata": {},
     "output_type": "execute_result"
    }
   ],
   "source": [
    "zero(Int64)"
   ]
  },
  {
   "cell_type": "code",
   "execution_count": 10,
   "metadata": {},
   "outputs": [
    {
     "data": {
      "text/plain": [
       "6-element BenchmarkTools.BenchmarkGroup:\n",
       "  tags: []\n",
       "  \"Julia builtin\" => Benchmark(evals=1, seconds=5.0, samples=10000)\n",
       "  \"Julia handwritten\" => Benchmark(evals=1, seconds=5.0, samples=10000)\n",
       "  \"C function\" => Benchmark(evals=1, seconds=5.0, samples=10000)\n",
       "  \"Python builtin (list)\" => Benchmark(evals=1, seconds=5.0, samples=10000)\n",
       "  \"Python builtin (numpy)\" => Benchmark(evals=1, seconds=5.0, samples=10000)\n",
       "  \"Python handwritten\" => Benchmark(evals=1, seconds=5.0, samples=10000)"
      ]
     },
     "execution_count": 10,
     "metadata": {},
     "output_type": "execute_result"
    }
   ],
   "source": [
    "using BenchmarkTools\n",
    "\n",
    "suite = BenchmarkGroup()\n",
    "suite[\"Julia handwritten\"]       = @benchmarkable mysum($data)\n",
    "suite[\"Julia builtin\"]           = @benchmarkable sum($data)\n",
    "suite[\"C function\"]       = @benchmarkable c_sum($data)\n",
    "suite[\"Python builtin (list)\"]   = @benchmarkable $pysum($apy_list)\n",
    "suite[\"Python builtin (numpy)\"]  = @benchmarkable $numpy_sum($apy_numpy)\n",
    "suite[\"Python handwritten\"]      = @benchmarkable $sum_py($apy_list)\n",
    "\n",
    "# If a cache of tuned parameters already exists, use it, otherwise, tune and cache\n",
    "# the benchmark parameters. Reusing cached parameters is faster and more reliable\n",
    "# than re-tuning `suite` every time the file is included.\n",
    "paramspath = joinpath(@__DIR__, \"sum_bench.json\")\n",
    "\n",
    "if isfile(paramspath)\n",
    "    loadparams!(suite, BenchmarkTools.load(paramspath)[1], :evals);\n",
    "else\n",
    "    tune!(suite)\n",
    "    BenchmarkTools.save(paramspath, params(suite));\n",
    "end\n"
   ]
  },
  {
   "cell_type": "code",
   "execution_count": 11,
   "metadata": {},
   "outputs": [
    {
     "data": {
      "text/plain": [
       "6-element BenchmarkTools.BenchmarkGroup:\n",
       "  tags: []\n",
       "  \"Julia builtin\" => Trial(3.702 ms)\n",
       "  \"Julia handwritten\" => Trial(10.938 ms)\n",
       "  \"C function\" => Trial(10.687 ms)\n",
       "  \"Python builtin (list)\" => Trial(45.432 ms)\n",
       "  \"Python builtin (numpy)\" => Trial(4.038 ms)\n",
       "  \"Python handwritten\" => Trial(225.513 ms)"
      ]
     },
     "execution_count": 11,
     "metadata": {},
     "output_type": "execute_result"
    }
   ],
   "source": [
    "results = run(suite)\n"
   ]
  },
  {
   "cell_type": "code",
   "execution_count": 12,
   "metadata": {},
   "outputs": [
    {
     "name": "stdout",
     "output_type": "stream",
     "text": [
      "Julia builtin..........................3.7 ms\n",
      "Python builtin (numpy)................4.04 ms\n",
      "C function...........................10.69 ms\n",
      "Julia handwritten....................10.94 ms\n",
      "Python builtin (list)................45.43 ms\n",
      "Python handwritten..................225.51 ms\n"
     ]
    }
   ],
   "source": [
    "for (name, trial) in sort(collect(results), by=x->time(x[2]))\n",
    "    t = time(trial) / 1e6\n",
    "    println(rpad(name, 25, \".\"), lpad(string(round(t, digits=2), \" ms\"), 20, \".\"))\n",
    "end\n"
   ]
  },
  {
   "cell_type": "code",
   "execution_count": 13,
   "metadata": {},
   "outputs": [
    {
     "data": {
      "text/html": [
       "sum(a::<b>AbstractArray</b>; <i>dims</i>) in Base at <a href=\"https://github.com/JuliaLang/julia/tree/788b2c77c10c2160f4794a4d4b6b81a95a90940c/base/reducedim.jl#L722\" target=\"_blank\">reducedim.jl:722</a>"
      ],
      "text/plain": [
       "sum(a::AbstractArray; dims) in Base at reducedim.jl:722"
      ]
     },
     "execution_count": 13,
     "metadata": {},
     "output_type": "execute_result"
    }
   ],
   "source": [
    "@which sum(data)"
   ]
  },
  {
   "cell_type": "markdown",
   "metadata": {},
   "source": [
    "# Benchmarking\n",
    "\n",
    "1. Premature optimization is the root of all evil - Knuth\n",
    "\n",
    "2. Measure and then optimize\n",
    "\n",
    "\n",
    "### Tools: \n",
    "\n",
    "1. BenchmarkTools.jl https://github.com/JuliaCI/BenchmarkTools.jl\n",
    "\n",
    "2. Profiler https://docs.julialang.org/en/latest/manual/profile/\n",
    "\n",
    "3. ProfileView.jl https://github.com/timholy/ProfileView.jl\n"
   ]
  },
  {
   "cell_type": "code",
   "execution_count": 41,
   "metadata": {},
   "outputs": [
    {
     "data": {
      "text/plain": [
       "mysum (generic function with 1 method)"
      ]
     },
     "execution_count": 41,
     "metadata": {},
     "output_type": "execute_result"
    }
   ],
   "source": [
    "function mysum(data)\n",
    "    acc = 0.0\n",
    "    for x in data\n",
    "        acc += x\n",
    "    end\n",
    "    return acc\n",
    "end"
   ]
  },
  {
   "cell_type": "code",
   "execution_count": 42,
   "metadata": {},
   "outputs": [
    {
     "name": "stdout",
     "output_type": "stream",
     "text": [
      "  0.019207 seconds (4.58 k allocations: 219.972 KiB)\n"
     ]
    },
    {
     "data": {
      "text/plain": [
       "5.0007290604401445e6"
      ]
     },
     "execution_count": 42,
     "metadata": {},
     "output_type": "execute_result"
    }
   ],
   "source": [
    "@time mysum(data)"
   ]
  },
  {
   "cell_type": "code",
   "execution_count": 53,
   "metadata": {},
   "outputs": [
    {
     "name": "stdout",
     "output_type": "stream",
     "text": [
      "  0.011305 seconds (1 allocation: 16 bytes)\n"
     ]
    },
    {
     "data": {
      "text/plain": [
       "5.0007290604401445e6"
      ]
     },
     "execution_count": 53,
     "metadata": {},
     "output_type": "execute_result"
    }
   ],
   "source": [
    "@time mysum(data)"
   ]
  },
  {
   "cell_type": "code",
   "execution_count": 17,
   "metadata": {},
   "outputs": [
    {
     "data": {
      "text/plain": [
       "BenchmarkTools.Trial: \n",
       "  memory estimate:  0 bytes\n",
       "  allocs estimate:  0\n",
       "  --------------\n",
       "  minimum time:     10.972 ms (0.00% GC)\n",
       "  median time:      11.066 ms (0.00% GC)\n",
       "  mean time:        11.175 ms (0.00% GC)\n",
       "  maximum time:     14.581 ms (0.00% GC)\n",
       "  --------------\n",
       "  samples:          448\n",
       "  evals/sample:     1"
      ]
     },
     "execution_count": 17,
     "metadata": {},
     "output_type": "execute_result"
    }
   ],
   "source": [
    "using BenchmarkTools\n",
    "\n",
    "@benchmark mysum($data)"
   ]
  },
  {
   "cell_type": "code",
   "execution_count": 18,
   "metadata": {},
   "outputs": [
    {
     "name": "stdout",
     "output_type": "stream",
     "text": [
      "  10.965 ms (0 allocations: 0 bytes)\n"
     ]
    },
    {
     "data": {
      "text/plain": [
       "5.0007290604401445e6"
      ]
     },
     "execution_count": 18,
     "metadata": {},
     "output_type": "execute_result"
    }
   ],
   "source": [
    "@btime mysum($data)"
   ]
  },
  {
   "cell_type": "markdown",
   "metadata": {},
   "source": [
    "# Code Optimizations\n",
    "\n",
    "## Don't use global variables"
   ]
  },
  {
   "cell_type": "code",
   "execution_count": 61,
   "metadata": {},
   "outputs": [
    {
     "data": {
      "text/plain": [
       "f2 (generic function with 1 method)"
      ]
     },
     "execution_count": 61,
     "metadata": {},
     "output_type": "execute_result"
    }
   ],
   "source": [
    "x = 10\n",
    "\n",
    "function f1()\n",
    "    [i + x for i in 1:10^6]\n",
    "end\n",
    "\n",
    "function f2(n)\n",
    "   return [i + n for i in 1:10^6]\n",
    "end"
   ]
  },
  {
   "cell_type": "code",
   "execution_count": 20,
   "metadata": {},
   "outputs": [
    {
     "data": {
      "text/plain": [
       "BenchmarkTools.Trial: \n",
       "  memory estimate:  38.13 MiB\n",
       "  allocs estimate:  1998992\n",
       "  --------------\n",
       "  minimum time:     25.114 ms (0.00% GC)\n",
       "  median time:      26.774 ms (4.22% GC)\n",
       "  mean time:        27.777 ms (3.25% GC)\n",
       "  maximum time:     52.412 ms (4.03% GC)\n",
       "  --------------\n",
       "  samples:          181\n",
       "  evals/sample:     1"
      ]
     },
     "execution_count": 20,
     "metadata": {},
     "output_type": "execute_result"
    }
   ],
   "source": [
    "@benchmark f1()"
   ]
  },
  {
   "cell_type": "code",
   "execution_count": 21,
   "metadata": {},
   "outputs": [
    {
     "data": {
      "text/plain": [
       "BenchmarkTools.Trial: \n",
       "  memory estimate:  7.63 MiB\n",
       "  allocs estimate:  2\n",
       "  --------------\n",
       "  minimum time:     575.683 μs (0.00% GC)\n",
       "  median time:      720.028 μs (0.00% GC)\n",
       "  mean time:        809.589 μs (8.62% GC)\n",
       "  maximum time:     4.361 ms (15.93% GC)\n",
       "  --------------\n",
       "  samples:          6170\n",
       "  evals/sample:     1"
      ]
     },
     "execution_count": 21,
     "metadata": {},
     "output_type": "execute_result"
    }
   ],
   "source": [
    "@benchmark f2($x)"
   ]
  },
  {
   "cell_type": "markdown",
   "metadata": {},
   "source": [
    "# Code Optimizations\n",
    "\n",
    "## Add @inbounds"
   ]
  },
  {
   "cell_type": "code",
   "execution_count": 22,
   "metadata": {
    "scrolled": true
   },
   "outputs": [
    {
     "data": {
      "text/plain": [
       "mygemm_inbounds (generic function with 1 method)"
      ]
     },
     "execution_count": 22,
     "metadata": {},
     "output_type": "execute_result"
    }
   ],
   "source": [
    "function mygemm1!(C, A, B)\n",
    "   for j in 1:size(C, 2)\n",
    "    for k in 1:size(A, 2)\n",
    "      for i in 1:size(C, 1)\n",
    "        C[i, j] += A[i, k] * B[k, j]\n",
    "        end \n",
    "    end\n",
    "  end\n",
    "  return C\n",
    "end\n",
    "\n",
    "function mygemm(A, B)\n",
    "  @assert size(A, 2) == size(B, 1)\n",
    "  C = zeros(size(A, 1), size(B,2))\n",
    "  mygemm1!(C, A, B)\n",
    "  return C\n",
    "end\n",
    "\n",
    "\n",
    "function mygemm!(C, A, B)\n",
    "   for j in 1:size(C, 2)\n",
    "    for k in 1:size(A, 2)\n",
    "      for i in 1:size(C, 1)\n",
    "        @inbounds C[i, j] += A[i, k] * B[k, j]\n",
    "        end \n",
    "    end\n",
    "  end\n",
    "  return C\n",
    "end\n",
    "\n",
    "function mygemm_inbounds(A, B)\n",
    "  @assert size(A, 2) == size(B, 1)\n",
    "  C = zeros(size(A, 1), size(B,2))\n",
    "  mygemm!(C, A, B)\n",
    "  return C\n",
    "end"
   ]
  },
  {
   "cell_type": "code",
   "execution_count": 23,
   "metadata": {},
   "outputs": [],
   "source": [
    "N = 1024\n",
    "A = rand(N, N);\n",
    "B = rand(N, N);"
   ]
  },
  {
   "cell_type": "code",
   "execution_count": 24,
   "metadata": {},
   "outputs": [
    {
     "data": {
      "text/plain": [
       "true"
      ]
     },
     "execution_count": 24,
     "metadata": {},
     "output_type": "execute_result"
    }
   ],
   "source": [
    "mygemm_inbounds(A, B) ≈ mygemm(A, B) "
   ]
  },
  {
   "cell_type": "code",
   "execution_count": 25,
   "metadata": {},
   "outputs": [
    {
     "name": "stdout",
     "output_type": "stream",
     "text": [
      "  369.163 ms (2 allocations: 8.00 MiB)\n",
      "  1.044 s (2 allocations: 8.00 MiB)\n"
     ]
    }
   ],
   "source": [
    "@btime mygemm_inbounds($A, $B)\n",
    "@btime mygemm($A, $B);"
   ]
  },
  {
   "cell_type": "markdown",
   "metadata": {},
   "source": [
    "## Use static arrays\n",
    "\n",
    "Static arrays are statically sized arrays. Using them can be very powerful when the vector and matrix sizes are small (<100 elements). Size information is passed on to the compiler which can help it with doing advanced optimizations. \n",
    "\n",
    "```\n",
    "============================================\n",
    "    Benchmarks for 3×3 Float64 matrices\n",
    "============================================\n",
    "Matrix multiplication               -> 5.9x speedup\n",
    "Matrix multiplication (mutating)    -> 1.8x speedup\n",
    "Matrix addition                     -> 33.1x speedup\n",
    "Matrix addition (mutating)          -> 2.5x speedup\n",
    "Matrix determinant                  -> 112.9x speedup\n",
    "Matrix inverse                      -> 67.8x speedup\n",
    "Matrix symmetric eigendecomposition -> 25.0x speedup\n",
    "Matrix Cholesky decomposition       -> 8.8x speedup\n",
    "Matrix LU decomposition             -> 6.1x speedup\n",
    "Matrix QR decomposition             -> 65.0x speedup\n",
    "```\n",
    "\n",
    "- `v1 = @SVector rand(10);`\n",
    "- `m1 = @SMatrix rand(10, 10);`\n",
    "\n",
    "Repo: https://github.com/JuliaArrays/StaticArrays.jl\n",
    "\n"
   ]
  },
  {
   "cell_type": "markdown",
   "metadata": {},
   "source": [
    "# Check for type instablity\n",
    "\n",
    "Type stability: When all variables in function have only one possible Type.\n",
    "\n",
    "Note: In julia types are inferred at run time. \n",
    "\n",
    "Lets see what and why this is a problem."
   ]
  },
  {
   "cell_type": "markdown",
   "metadata": {},
   "source": [
    "# Julia compiler schematic\n",
    "\n",
    "\n",
    "![image.png](compiler.png)\n",
    "\n",
    "\n",
    "To view different stages of compilation use\n",
    "\n",
    "1. @code_lowered - removes all syntactic sugar and adds code\n",
    "2. @code_typed - adds type annotations to the lowered code\n",
    "3. @code_llvm - shows LLVM IR\n",
    "4. @code_native - shows machine code\n",
    "5. @code_warntype - highlights type instable parts if any"
   ]
  },
  {
   "cell_type": "code",
   "execution_count": 26,
   "metadata": {},
   "outputs": [
    {
     "name": "stdout",
     "output_type": "stream",
     "text": [
      "  4.278 μs (1 allocation: 16 bytes)\n",
      "  520.298 ns (1 allocation: 16 bytes)\n"
     ]
    }
   ],
   "source": [
    "function mymax(init, x)\n",
    "   s = init # -Infinity\n",
    "   for i in 1:length(x)\n",
    "       xi = x[i]\n",
    "       s = s < xi ? xi : s\n",
    "   end\n",
    "   return s\n",
    "end\n",
    "\n",
    "r = rand(Int, 1000);\n",
    "\n",
    "\n",
    "@btime mymax(-Inf32, r);\n",
    "@btime mymax(typemin(Int), r);"
   ]
  },
  {
   "cell_type": "code",
   "execution_count": 27,
   "metadata": {},
   "outputs": [
    {
     "data": {
      "text/plain": [
       "(Float32, Int64)"
      ]
     },
     "execution_count": 27,
     "metadata": {},
     "output_type": "execute_result"
    }
   ],
   "source": [
    "typeof(-Inf32), typeof(typemin(Int))"
   ]
  },
  {
   "cell_type": "code",
   "execution_count": 28,
   "metadata": {
    "scrolled": false
   },
   "outputs": [
    {
     "name": "stdout",
     "output_type": "stream",
     "text": [
      "Variables\n",
      "  #self#\u001b[36m::Core.Compiler.Const(mymax, false)\u001b[39m\n",
      "  init\u001b[36m::Float32\u001b[39m\n",
      "  x\u001b[36m::Array{Int64,1}\u001b[39m\n",
      "  s\u001b[91m\u001b[1m::Union{Float32, Int64}\u001b[22m\u001b[39m\n",
      "  @_5\u001b[33m\u001b[1m::Union{Nothing, Tuple{Int64,Int64}}\u001b[22m\u001b[39m\n",
      "  i\u001b[36m::Int64\u001b[39m\n",
      "  xi\u001b[36m::Int64\u001b[39m\n",
      "  @_8\u001b[91m\u001b[1m::Union{Float32, Int64}\u001b[22m\u001b[39m\n",
      "\n",
      "Body\u001b[91m\u001b[1m::Union{Float32, Int64}\u001b[22m\u001b[39m\n",
      "\u001b[90m1 ─\u001b[39m       (s = init)\n",
      "\u001b[90m│  \u001b[39m %2  = Main.length(x)\u001b[36m::Int64\u001b[39m\n",
      "\u001b[90m│  \u001b[39m %3  = (1:%2)\u001b[36m::Core.Compiler.PartialStruct(UnitRange{Int64}, Any[Core.Compiler.Const(1, false), Int64])\u001b[39m\n",
      "\u001b[90m│  \u001b[39m       (@_5 = Base.iterate(%3))\n",
      "\u001b[90m│  \u001b[39m %5  = (@_5 === nothing)\u001b[36m::Bool\u001b[39m\n",
      "\u001b[90m│  \u001b[39m %6  = Base.not_int(%5)\u001b[36m::Bool\u001b[39m\n",
      "\u001b[90m└──\u001b[39m       goto #7 if not %6\n",
      "\u001b[90m2 ┄\u001b[39m %8  = @_5::Tuple{Int64,Int64}\u001b[36m::Tuple{Int64,Int64}\u001b[39m\n",
      "\u001b[90m│  \u001b[39m       (i = Core.getfield(%8, 1))\n",
      "\u001b[90m│  \u001b[39m %10 = Core.getfield(%8, 2)\u001b[36m::Int64\u001b[39m\n",
      "\u001b[90m│  \u001b[39m       (xi = Base.getindex(x, i))\n",
      "\u001b[90m│  \u001b[39m %12 = (s < xi)\u001b[36m::Bool\u001b[39m\n",
      "\u001b[90m└──\u001b[39m       goto #4 if not %12\n",
      "\u001b[90m3 ─\u001b[39m       (@_8 = xi)\n",
      "\u001b[90m└──\u001b[39m       goto #5\n",
      "\u001b[90m4 ─\u001b[39m       (@_8 = s)\n",
      "\u001b[90m5 ┄\u001b[39m       (s = @_8)\n",
      "\u001b[90m│  \u001b[39m       (@_5 = Base.iterate(%3, %10))\n",
      "\u001b[90m│  \u001b[39m %19 = (@_5 === nothing)\u001b[36m::Bool\u001b[39m\n",
      "\u001b[90m│  \u001b[39m %20 = Base.not_int(%19)\u001b[36m::Bool\u001b[39m\n",
      "\u001b[90m└──\u001b[39m       goto #7 if not %20\n",
      "\u001b[90m6 ─\u001b[39m       goto #2\n",
      "\u001b[90m7 ┄\u001b[39m       return s\n"
     ]
    }
   ],
   "source": [
    "@code_warntype mymax(-Inf32, r)"
   ]
  },
  {
   "cell_type": "code",
   "execution_count": 29,
   "metadata": {
    "scrolled": false
   },
   "outputs": [
    {
     "name": "stdout",
     "output_type": "stream",
     "text": [
      "Variables\n",
      "  #self#\u001b[36m::Core.Compiler.Const(mymax, false)\u001b[39m\n",
      "  init\u001b[36m::Int64\u001b[39m\n",
      "  x\u001b[36m::Array{Int64,1}\u001b[39m\n",
      "  s\u001b[36m::Int64\u001b[39m\n",
      "  @_5\u001b[33m\u001b[1m::Union{Nothing, Tuple{Int64,Int64}}\u001b[22m\u001b[39m\n",
      "  i\u001b[36m::Int64\u001b[39m\n",
      "  xi\u001b[36m::Int64\u001b[39m\n",
      "  @_8\u001b[36m::Int64\u001b[39m\n",
      "\n",
      "Body\u001b[36m::Int64\u001b[39m\n",
      "\u001b[90m1 ─\u001b[39m       (s = init)\n",
      "\u001b[90m│  \u001b[39m %2  = Main.length(x)\u001b[36m::Int64\u001b[39m\n",
      "\u001b[90m│  \u001b[39m %3  = (1:%2)\u001b[36m::Core.Compiler.PartialStruct(UnitRange{Int64}, Any[Core.Compiler.Const(1, false), Int64])\u001b[39m\n",
      "\u001b[90m│  \u001b[39m       (@_5 = Base.iterate(%3))\n",
      "\u001b[90m│  \u001b[39m %5  = (@_5 === nothing)\u001b[36m::Bool\u001b[39m\n",
      "\u001b[90m│  \u001b[39m %6  = Base.not_int(%5)\u001b[36m::Bool\u001b[39m\n",
      "\u001b[90m└──\u001b[39m       goto #7 if not %6\n",
      "\u001b[90m2 ┄\u001b[39m %8  = @_5::Tuple{Int64,Int64}\u001b[36m::Tuple{Int64,Int64}\u001b[39m\n",
      "\u001b[90m│  \u001b[39m       (i = Core.getfield(%8, 1))\n",
      "\u001b[90m│  \u001b[39m %10 = Core.getfield(%8, 2)\u001b[36m::Int64\u001b[39m\n",
      "\u001b[90m│  \u001b[39m       (xi = Base.getindex(x, i))\n",
      "\u001b[90m│  \u001b[39m %12 = (s < xi)\u001b[36m::Bool\u001b[39m\n",
      "\u001b[90m└──\u001b[39m       goto #4 if not %12\n",
      "\u001b[90m3 ─\u001b[39m       (@_8 = xi)\n",
      "\u001b[90m└──\u001b[39m       goto #5\n",
      "\u001b[90m4 ─\u001b[39m       (@_8 = s)\n",
      "\u001b[90m5 ┄\u001b[39m       (s = @_8)\n",
      "\u001b[90m│  \u001b[39m       (@_5 = Base.iterate(%3, %10))\n",
      "\u001b[90m│  \u001b[39m %19 = (@_5 === nothing)\u001b[36m::Bool\u001b[39m\n",
      "\u001b[90m│  \u001b[39m %20 = Base.not_int(%19)\u001b[36m::Bool\u001b[39m\n",
      "\u001b[90m└──\u001b[39m       goto #7 if not %20\n",
      "\u001b[90m6 ─\u001b[39m       goto #2\n",
      "\u001b[90m7 ┄\u001b[39m       return s\n"
     ]
    }
   ],
   "source": [
    "@code_warntype mymax(typemin(Int), r)"
   ]
  },
  {
   "cell_type": "markdown",
   "metadata": {},
   "source": [
    "### Note:\n",
    "- In @code_warntype output if you see anything annotated in red and of types Union and Any, that indicates that your code has type instability."
   ]
  },
  {
   "cell_type": "markdown",
   "metadata": {},
   "source": [
    "## Recap: \n",
    "\n",
    "Type stability is very important. It can make or break your performance. Especially, when the whole library is not type stable. "
   ]
  },
  {
   "cell_type": "code",
   "execution_count": 65,
   "metadata": {
    "scrolled": true
   },
   "outputs": [
    {
     "name": "stdout",
     "output_type": "stream",
     "text": [
      "\t.text\n",
      "\t.file\t\"@time\"\n",
      "\t.globl\tjulia_time_5301         # -- Begin function julia_time_5301\n",
      "\t.p2align\t4, 0x90\n",
      "\t.type\tjulia_time_5301,@function\n",
      "julia_time_5301:                        # @julia_time_5301\n",
      "\t.cfi_startproc\n",
      "# %bb.0:                                # %top\n",
      "\tpushq\t%rbp\n",
      "\t.cfi_def_cfa_offset 16\n",
      "\t.cfi_offset %rbp, -16\n",
      "\tmovq\t%rsp, %rbp\n",
      "\t.cfi_def_cfa_register %rbp\n",
      "\tpushq\t%r15\n",
      "\tpushq\t%r14\n",
      "\tpushq\t%r13\n",
      "\tpushq\t%r12\n",
      "\tpushq\t%rbx\n",
      "\tandq\t$-32, %rsp\n",
      "\tsubq\t$288, %rsp              # imm = 0x120\n",
      "\t.cfi_offset %rbx, -56\n",
      "\t.cfi_offset %r12, -48\n",
      "\t.cfi_offset %r13, -40\n",
      "\t.cfi_offset %r14, -32\n",
      "\t.cfi_offset %r15, -24\n",
      "\tmovq\t%rdx, %r14\n",
      "\tvxorps\t%xmm0, %xmm0, %xmm0\n",
      "\tvmovups\t%ymm0, 80(%rsp)\n",
      "\tvmovaps\t%ymm0, 64(%rsp)\n",
      "\tvmovaps\t%ymm0, 32(%rsp)\n",
      "\t#APP\n",
      "\tmovq\t%fs:0, %rcx\n",
      "\t#NO_APP\n",
      "\tmovq\t%rcx, 24(%rsp)          # 8-byte Spill\n",
      "\tmovq\t$32, 32(%rsp)\n",
      "\tmovq\t-15720(%rcx), %rax\n",
      "\tmovq\t%rax, 40(%rsp)\n",
      "\tleaq\t32(%rsp), %rax\n",
      "\tmovq\t%rax, -15720(%rcx)\n",
      "\tmovabsq\t$jl_copy_ast, %r15\n",
      "\tmovabsq\t$140586945132880, %rbx  # imm = 0x7FDCF2ECB950\n",
      "\tmovq\t%rbx, %rdi\n",
      "\tvzeroupper\n",
      "\tcallq\t*%r15\n",
      "\tmovq\t%rax, 16(%rsp)          # 8-byte Spill\n",
      "\tmovq\t%rax, 72(%rsp)\n",
      "\tleaq\t128(%rbx), %rdi\n",
      "\tcallq\t*%r15\n",
      "\tmovq\t%rax, 8(%rsp)           # 8-byte Spill\n",
      "\tmovq\t%rax, 64(%rsp)\n",
      "\tleaq\t256(%rbx), %rdi\n",
      "\tcallq\t*%r15\n",
      "\tmovq\t%r15, %r13\n",
      "\tmovq\t%rax, (%rsp)            # 8-byte Spill\n",
      "\tmovq\t%rax, 56(%rsp)\n",
      "\tmovabsq\t$140589143063432, %r15  # imm = 0x7FDD75EE7B88\n",
      "\tleaq\t-244800(%r15), %rax\n",
      "\tmovq\t%rax, 112(%rsp)\n",
      "\tmovq\t%r14, 120(%rsp)\n",
      "\tmovabsq\t$jl_f__expr, %r14\n",
      "\tleaq\t112(%rsp), %r12\n",
      "\txorl\t%edi, %edi\n",
      "\tmovq\t%r12, %rsi\n",
      "\tmovl\t$2, %edx\n",
      "\tcallq\t*%r14\n",
      "\tmovq\t%rax, 48(%rsp)\n",
      "\tleaq\t160696(%r15), %rcx\n",
      "\tmovq\t%rcx, 112(%rsp)\n",
      "\tmovq\t%r15, 120(%rsp)\n",
      "\tmovq\t%rax, 128(%rsp)\n",
      "\txorl\t%edi, %edi\n",
      "\tmovq\t%r12, %rsi\n",
      "\tmovl\t$3, %edx\n",
      "\tcallq\t*%r14\n",
      "\tmovq\t%rax, 48(%rsp)\n",
      "\tleaq\t323176(%r15), %rcx\n",
      "\tmovq\t%rcx, 112(%rsp)\n",
      "\tmovq\t%rax, 120(%rsp)\n",
      "\txorl\t%edi, %edi\n",
      "\tmovq\t%r12, %rsi\n",
      "\tmovl\t$2, %edx\n",
      "\tcallq\t*%r14\n",
      "\tmovq\t%rax, %r14\n",
      "\tmovq\t%rax, 104(%rsp)\n",
      "\tleaq\t480(%rbx), %rdi\n",
      "\tcallq\t*%r13\n",
      "\tmovq\t%rax, %r15\n",
      "\tmovq\t%rax, 96(%rsp)\n",
      "\tleaq\t608(%rbx), %rdi\n",
      "\tcallq\t*%r13\n",
      "\tmovq\t%rax, %r12\n",
      "\tmovq\t%rax, 88(%rsp)\n",
      "\tleaq\t768(%rbx), %rdi\n",
      "\tcallq\t*%r13\n",
      "\tmovq\t%r13, %rcx\n",
      "\tmovq\t%rax, %r13\n",
      "\tmovq\t%rax, 80(%rsp)\n",
      "\tleaq\t928(%rbx), %rdi\n",
      "\tcallq\t*%rcx\n",
      "\tmovq\t%rax, 48(%rsp)\n",
      "\tmovabsq\t$140589143063432, %rdx  # imm = 0x7FDD75EE7B88\n",
      "\tleaq\t164744(%rdx), %rcx\n",
      "\tmovq\t%rcx, 112(%rsp)\n",
      "\tleaq\t992(%rbx), %rcx\n",
      "\tmovq\t%rcx, 120(%rsp)\n",
      "\tmovq\t16(%rsp), %rcx          # 8-byte Reload\n",
      "\tmovq\t%rcx, 128(%rsp)\n",
      "\tleaq\t1024(%rbx), %rcx\n",
      "\tmovq\t%rcx, 136(%rsp)\n",
      "\tmovq\t8(%rsp), %rcx           # 8-byte Reload\n",
      "\tmovq\t%rcx, 144(%rsp)\n",
      "\tleaq\t1056(%rbx), %rcx\n",
      "\tmovq\t%rcx, 152(%rsp)\n",
      "\tmovq\t(%rsp), %rcx            # 8-byte Reload\n",
      "\tmovq\t%rcx, 160(%rsp)\n",
      "\tleaq\t1088(%rbx), %rcx\n",
      "\tmovq\t%rcx, 168(%rsp)\n",
      "\tmovq\t%r14, 176(%rsp)\n",
      "\tleaq\t1120(%rbx), %rcx\n",
      "\tmovq\t%rcx, 184(%rsp)\n",
      "\tmovq\t%r15, 192(%rsp)\n",
      "\tleaq\t1152(%rbx), %rcx\n",
      "\tmovq\t%rcx, 200(%rsp)\n",
      "\tmovq\t%r12, 208(%rsp)\n",
      "\tleaq\t1184(%rbx), %rcx\n",
      "\tmovq\t%rcx, 216(%rsp)\n",
      "\tmovq\t%r13, 224(%rsp)\n",
      "\tleaq\t1216(%rbx), %rcx\n",
      "\tmovq\t%rcx, 232(%rsp)\n",
      "\tmovq\t%rax, 240(%rsp)\n",
      "\taddq\t$1248, %rbx             # imm = 0x4E0\n",
      "\tmovq\t%rbx, 248(%rsp)\n",
      "\tmovq\t%rdx, 256(%rsp)\n",
      "\txorl\t%edi, %edi\n",
      "\tleaq\t112(%rsp), %rsi\n",
      "\tmovl\t$19, %edx\n",
      "\tmovabsq\t$jl_f__expr, %rax\n",
      "\tcallq\t*%rax\n",
      "\tmovq\t40(%rsp), %rcx\n",
      "\tmovq\t24(%rsp), %rdx          # 8-byte Reload\n",
      "\tmovq\t%rcx, -15720(%rdx)\n",
      "\tleaq\t-40(%rbp), %rsp\n",
      "\tpopq\t%rbx\n",
      "\tpopq\t%r12\n",
      "\tpopq\t%r13\n",
      "\tpopq\t%r14\n",
      "\tpopq\t%r15\n",
      "\tpopq\t%rbp\n",
      "\t.cfi_def_cfa %rsp, 8\n",
      "\tretq\n",
      ".Lfunc_end0:\n",
      "\t.size\tjulia_time_5301, .Lfunc_end0-julia_time_5301\n",
      "\t.cfi_endproc\n",
      "                                        # -- End function\n",
      "\n",
      "\t.section\t\".note.GNU-stack\",\"\",@progbits\n"
     ]
    }
   ],
   "source": [
    "@code_native @time 1+1"
   ]
  },
  {
   "cell_type": "markdown",
   "metadata": {},
   "source": [
    "# Parallel computing\n",
    "\n",
    "## SIMD\n",
    "\n",
    "SIMD = Single Instruction Multiple Data\n",
    "\n",
    "This is intra-core parallelism\n",
    "\n",
    "- Single instruction can operate on multiple vector elements at a time\n",
    "- Modern CPUs have vector registers of sizes 128, 256, 512 bits\n",
    "- These registers hold 2, 4 or 8 Float64 numbers or 4, 8 or 16 Float32 numbers\n",
    "\n",
    "\n",
    "![image.png](simd.png)\n",
    "\n",
    "- To use SIMD, memory access should be continguos.\n",
    "\n",
    "### Note: \n",
    "1. Make sure there are no dependency chains in your code.\n",
    "2. There should not be any branches in the code (eg: if-else)\n",
    "\n",
    "\n",
    "## Loading and storing vectors\n",
    "\n",
    "![image.png](vec_memory.png)\n"
   ]
  },
  {
   "cell_type": "markdown",
   "metadata": {},
   "source": [
    "## Vector summation\n",
    "\n",
    "![image.png](simd1.png)\n"
   ]
  },
  {
   "cell_type": "markdown",
   "metadata": {},
   "source": [
    "## Using SIMD\n",
    "\n",
    "![image.png](simd2.png)\n",
    "\n",
    "\n",
    "- This is simplified view of SIMD \n"
   ]
  },
  {
   "cell_type": "code",
   "execution_count": 31,
   "metadata": {},
   "outputs": [],
   "source": [
    "function mysum_slow(data)\n",
    "    acc = zero(eltype(data))\n",
    "    @inbounds for x in data\n",
    "        acc += x\n",
    "    end\n",
    "    return acc\n",
    "end\n",
    "\n",
    "\n",
    "\n",
    "function mysum_simd(data)\n",
    "    acc = zero(eltype(data))\n",
    "    @inbounds @simd for x in data\n",
    "        acc += x\n",
    "    end\n",
    "    return acc\n",
    "end\n",
    "\n",
    "x = rand(1024);\n"
   ]
  },
  {
   "cell_type": "code",
   "execution_count": 32,
   "metadata": {},
   "outputs": [
    {
     "name": "stdout",
     "output_type": "stream",
     "text": [
      "  1.016 μs (0 allocations: 0 bytes)\n",
      "  60.510 ns (0 allocations: 0 bytes)\n"
     ]
    }
   ],
   "source": [
    "@btime mysum_slow($x)\n",
    "@btime mysum_simd($x);"
   ]
  },
  {
   "cell_type": "code",
   "execution_count": 33,
   "metadata": {},
   "outputs": [],
   "source": [
    "x768 = rand(768);\n",
    "x799 = rand(799);\n",
    "x800 = rand(800);"
   ]
  },
  {
   "cell_type": "code",
   "execution_count": 34,
   "metadata": {},
   "outputs": [
    {
     "name": "stdout",
     "output_type": "stream",
     "text": [
      "  43.334 ns (0 allocations: 0 bytes)\n",
      "  60.062 ns (0 allocations: 0 bytes)\n",
      "  49.658 ns (0 allocations: 0 bytes)\n"
     ]
    }
   ],
   "source": [
    "@btime mysum_simd($x768)\n",
    "@btime mysum_simd($x799)\n",
    "@btime mysum_simd($x800);"
   ]
  },
  {
   "cell_type": "markdown",
   "metadata": {},
   "source": [
    "## Enter LoopVectorization\n",
    "\n",
    "- LoopVectorization.jl does SIMD and also does many more optimizations that can help LLVM perform even faster and better optimizations. \n",
    "- With LoopVectorization julia code can perform on par with OpenBLAS/MKL code.\n",
    "- Use this when you do lot of elementwise operations and also makes special functions such as log, trignometric functions on vectors very fast.\n",
    "\n",
    "Repo: https://github.com/chriselrod/LoopVectorization.jl"
   ]
  },
  {
   "cell_type": "code",
   "execution_count": 35,
   "metadata": {},
   "outputs": [
    {
     "data": {
      "text/plain": [
       "mysumavx (generic function with 1 method)"
      ]
     },
     "execution_count": 35,
     "metadata": {},
     "output_type": "execute_result"
    }
   ],
   "source": [
    "using LoopVectorization\n",
    "\n",
    "function mysumavx(data)\n",
    "    acc = zero(eltype(data))\n",
    "    @avx for i in eachindex(data)\n",
    "        acc += data[i]\n",
    "    end\n",
    "    return acc\n",
    "end"
   ]
  },
  {
   "cell_type": "code",
   "execution_count": 36,
   "metadata": {},
   "outputs": [
    {
     "name": "stdout",
     "output_type": "stream",
     "text": [
      "  31.807 ns (0 allocations: 0 bytes)\n",
      "  35.955 ns (0 allocations: 0 bytes)\n",
      "  32.791 ns (0 allocations: 0 bytes)\n"
     ]
    }
   ],
   "source": [
    "@btime mysumavx($x768)\n",
    "@btime mysumavx($x799)\n",
    "@btime mysumavx($x800);"
   ]
  },
  {
   "cell_type": "markdown",
   "metadata": {},
   "source": [
    "## Multithreading and Multiprocessing\n",
    "\n",
    "If you need to perform many independent operations (i.e. mapping a function over an array), parallel computing will produce a large performance boost.\n",
    "\n",
    "\n",
    "### Multithreading\n",
    "\n",
    "Threads are lightweight, since all the threads share the same space in memory, and you can launch as many threads as you want. The CPU can simultaneously a number of threads equal to the number of cores. Since the memory is shared you must pay attention to correct synchronisation when multiple threads are accessing the same variable.\n",
    "\n",
    "- To use multithreading you have to assign the julia REPL with some threads. You can do this by running `export JULIA_NUM_THREADS=12` and then run `julia`. \n",
    "- You can check the number of threads assigned in the REPL using `Threads.nthreads()`\n"
   ]
  },
  {
   "cell_type": "code",
   "execution_count": 67,
   "metadata": {},
   "outputs": [
    {
     "data": {
      "text/plain": [
       "10"
      ]
     },
     "execution_count": 67,
     "metadata": {},
     "output_type": "execute_result"
    }
   ],
   "source": [
    "Threads.nthreads()"
   ]
  },
  {
   "cell_type": "code",
   "execution_count": 38,
   "metadata": {},
   "outputs": [
    {
     "name": "stdout",
     "output_type": "stream",
     "text": [
      "  1.012384 seconds (85 allocations: 2.750 KiB)\n"
     ]
    }
   ],
   "source": [
    "function foo()\n",
    "    for i in 1:10\n",
    "        sleep(0.1) # some computation that takes 0.1s\n",
    "    end\n",
    "end\n",
    "\n",
    "@time foo()"
   ]
  },
  {
   "cell_type": "code",
   "execution_count": 39,
   "metadata": {},
   "outputs": [
    {
     "name": "stdout",
     "output_type": "stream",
     "text": [
      "  100.465 ms (104 allocations: 8.81 KiB)\n"
     ]
    }
   ],
   "source": [
    "function foo_threaded()\n",
    "    Threads.@threads for i in 1:10\n",
    "        sleep(0.1)\n",
    "    end\n",
    "end\n",
    "\n",
    "@btime foo_threaded()"
   ]
  },
  {
   "cell_type": "markdown",
   "metadata": {},
   "source": [
    "### Composable multithreading"
   ]
  },
  {
   "cell_type": "code",
   "execution_count": 40,
   "metadata": {},
   "outputs": [
    {
     "name": "stdout",
     "output_type": "stream",
     "text": [
      "  5.237 ms (46 allocations: 3.64 KiB)\n",
      "  23.526 ms (20 allocations: 576 bytes)\n"
     ]
    }
   ],
   "source": [
    "import Base.Threads.@spawn\n",
    "\n",
    "function slow_func(x)\n",
    "    sleep(0.005) \n",
    "    return x\n",
    "end\n",
    "\n",
    "@btime let\n",
    "    a = @spawn slow_func(2)\n",
    "    b = @spawn slow_func(4)\n",
    "    c = @spawn slow_func(42)\n",
    "    d = @spawn slow_func(12)\n",
    "    res = fetch(a) .+ fetch(b) .* fetch(c) ./ fetch(d)\n",
    "end\n",
    "\n",
    "@btime let\n",
    "    a = slow_func(2)\n",
    "    b = slow_func(4)\n",
    "    c = slow_func(42)\n",
    "    d = slow_func(12)\n",
    "    res = a .+ b .* c ./ d\n",
    "end;\n"
   ]
  },
  {
   "cell_type": "markdown",
   "metadata": {},
   "source": [
    "## Multiprocessing\n",
    "\n",
    "Here we can spawn number of processes less than or equal to number of cores"
   ]
  },
  {
   "cell_type": "code",
   "execution_count": 40,
   "metadata": {},
   "outputs": [
    {
     "name": "stderr",
     "output_type": "stream",
     "text": [
      "WARNING: using Distributed.@spawn in module Main conflicts with an existing identifier.\n"
     ]
    }
   ],
   "source": [
    "using Distributed"
   ]
  },
  {
   "cell_type": "code",
   "execution_count": 41,
   "metadata": {},
   "outputs": [
    {
     "data": {
      "text/plain": [
       "4-element Array{Int64,1}:\n",
       " 2\n",
       " 3\n",
       " 4\n",
       " 5"
      ]
     },
     "execution_count": 41,
     "metadata": {},
     "output_type": "execute_result"
    }
   ],
   "source": [
    "addprocs(4)\n",
    "\n",
    "\n",
    "# addprocs(list of ip addresses of nodes in the cluster)"
   ]
  },
  {
   "cell_type": "code",
   "execution_count": 42,
   "metadata": {},
   "outputs": [],
   "source": [
    "@everywhere function slow_func(x)\n",
    "    sleep(0.005) \n",
    "    return x\n",
    "end"
   ]
  },
  {
   "cell_type": "code",
   "execution_count": null,
   "metadata": {},
   "outputs": [],
   "source": [
    "@everywhere using SharedArrays\n",
    "\n",
    "res = SharedArray(zeros(10))\n",
    "\n",
    "@btime let\n",
    "@distributed for x in 1:10\n",
    "    res[x] = slow_func(x)\n",
    "end\n",
    "end"
   ]
  },
  {
   "cell_type": "code",
   "execution_count": null,
   "metadata": {},
   "outputs": [],
   "source": [
    "res"
   ]
  },
  {
   "cell_type": "markdown",
   "metadata": {},
   "source": [
    "### Note:\n",
    "\n",
    "- Threads are lightweight and you can easily spawn tasks and parallel loops. Multi-threading is recommended if the computations take more than 100 μs.\n",
    "- Use multi-processing if you are working with a cluster or if your computations take longer than 100 ms. Remember that spawning a process is an expensive operation.\n"
   ]
  },
  {
   "cell_type": "markdown",
   "metadata": {},
   "source": [
    "# Where to get help\n",
    "\n",
    "1. Julia discourse: https://discourse.julialang.org/ - recommended\n",
    "2. Julia slack:     https://julialang.org/slack/ - for informal chat"
   ]
  }
 ],
 "metadata": {
  "kernelspec": {
   "display_name": "Julia 1.5.3",
   "language": "julia",
   "name": "julia-1.5"
  },
  "language_info": {
   "file_extension": ".jl",
   "mimetype": "application/julia",
   "name": "julia",
   "version": "1.5.3"
  }
 },
 "nbformat": 4,
 "nbformat_minor": 4
}
